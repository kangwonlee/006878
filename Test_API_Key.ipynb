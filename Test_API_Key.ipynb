{
  "nbformat": 4,
  "nbformat_minor": 0,
  "metadata": {
    "colab": {
      "private_outputs": true,
      "provenance": [],
      "authorship_tag": "ABX9TyMhZZUyyE2M1we4M6T89leL",
      "include_colab_link": true
    },
    "kernelspec": {
      "name": "python3",
      "display_name": "Python 3"
    },
    "language_info": {
      "name": "python"
    }
  },
  "cells": [
    {
      "cell_type": "markdown",
      "metadata": {
        "id": "view-in-github",
        "colab_type": "text"
      },
      "source": [
        "<a href=\"https://colab.research.google.com/github/kangwonlee/006878/blob/master/Test_API_Key.ipynb\" target=\"_parent\"><img src=\"https://colab.research.google.com/assets/colab-badge.svg\" alt=\"Open In Colab\"/></a>"
      ]
    },
    {
      "cell_type": "markdown",
      "source": [
        "Test Google Gemini API key"
      ],
      "metadata": {
        "id": "-JibuiHGmi3o"
      }
    },
    {
      "cell_type": "code",
      "execution_count": null,
      "metadata": {
        "id": "5myr0Z2fmgsV"
      },
      "outputs": [],
      "source": [
        "import getpass\n",
        "import pprint\n",
        "\n",
        "import requests\n",
        "\n"
      ]
    },
    {
      "cell_type": "code",
      "source": [
        "if 'YOUR_API_KEY' not in globals():\n",
        "    YOUR_API_KEY = getpass.getpass('Your API Key:')\n",
        "\n"
      ],
      "metadata": {
        "id": "apRBO3mXmoJe"
      },
      "execution_count": null,
      "outputs": []
    },
    {
      "cell_type": "code",
      "source": [
        "url = f'https://generativelanguage.googleapis.com/v1beta/models/gemini-1.5-flash-latest:generateContent?key={YOUR_API_KEY}'\n",
        "headers = {'Content-Type': 'application/json'}\n",
        "data = {'contents': [{'parts': [{'text': 'Explain how AI works'}]}]}\n",
        "\n"
      ],
      "metadata": {
        "id": "sd7Snga7nqpn"
      },
      "execution_count": null,
      "outputs": []
    },
    {
      "cell_type": "code",
      "source": [
        "response = requests.post(url, headers=headers, json=data)\n",
        "\n",
        "if response.status_code == 200:\n",
        "    result = response.json()\n",
        "    pprint.pprint(result)\n",
        "else:\n",
        "    print(f\"Error: {response.status_code}, {response.text}\")\n",
        "\n"
      ],
      "metadata": {
        "id": "W_ZKWYx-ngcu"
      },
      "execution_count": null,
      "outputs": []
    },
    {
      "cell_type": "code",
      "source": [],
      "metadata": {
        "id": "AgvpTLlsyaE6"
      },
      "execution_count": null,
      "outputs": []
    }
  ]
}