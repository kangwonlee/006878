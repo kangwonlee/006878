{
  "cells": [
    {
      "cell_type": "markdown",
      "metadata": {
        "id": "view-in-github",
        "colab_type": "text"
      },
      "source": [
        "<a href=\"https://colab.research.google.com/github/kangwonlee/006878/blob/master/20_python_review.ipynb\" target=\"_parent\"><img src=\"https://colab.research.google.com/assets/colab-badge.svg\" alt=\"Open In Colab\"/></a>"
      ]
    },
    {
      "cell_type": "markdown",
      "metadata": {
        "id": "UmBvMQFG3YBo"
      },
      "source": [
        "# 파이썬 프로그래밍 언어<br>Python Programming Language\n",
        "\n"
      ]
    },
    {
      "cell_type": "markdown",
      "metadata": {
        "id": "U_HQgDyT3YBx"
      },
      "source": [
        "### `print(\"abc\")`\n",
        "\n"
      ]
    },
    {
      "cell_type": "code",
      "execution_count": null,
      "metadata": {
        "id": "vdaKzfU93YBy"
      },
      "outputs": [],
      "source": [
        "print(\"abc\")\n",
        "\n"
      ]
    },
    {
      "cell_type": "code",
      "execution_count": null,
      "metadata": {
        "id": "mycp6qg-3YBz"
      },
      "outputs": [],
      "source": [
        "print(1 + 2)\n",
        "\n"
      ]
    },
    {
      "cell_type": "markdown",
      "metadata": {
        "id": "74Tba5NZ3YBz"
      },
      "source": [
        "### 변수<br>Variables\n",
        "\n"
      ]
    },
    {
      "cell_type": "code",
      "execution_count": null,
      "metadata": {
        "id": "trBUnx2S3YB0"
      },
      "outputs": [],
      "source": [
        "a = 1\n",
        "\n"
      ]
    },
    {
      "cell_type": "markdown",
      "metadata": {
        "id": "dSddJYGA3YB0"
      },
      "source": [
        "여기서 `=` 을 *할당 연산자* 라고 한다.<br>Here, we call `=` an *assignment operator*."
      ]
    },
    {
      "cell_type": "code",
      "execution_count": null,
      "metadata": {
        "id": "igsN3W6D3YB1"
      },
      "outputs": [],
      "source": [
        "a\n",
        "\n"
      ]
    },
    {
      "cell_type": "code",
      "execution_count": null,
      "metadata": {
        "id": "cDwCNt9k3YB2"
      },
      "outputs": [],
      "source": [
        "b = 2\n",
        "\n"
      ]
    },
    {
      "cell_type": "code",
      "execution_count": null,
      "metadata": {
        "id": "JGeQHkiZ3YB2"
      },
      "outputs": [],
      "source": [
        "b\n",
        "\n"
      ]
    },
    {
      "cell_type": "code",
      "execution_count": null,
      "metadata": {
        "id": "bW7UrbIK3YB3"
      },
      "outputs": [],
      "source": [
        "a + b\n",
        "\n"
      ]
    },
    {
      "cell_type": "markdown",
      "metadata": {
        "id": "7oamZYI63YB3"
      },
      "source": [
        "### 문자열 내삽<br>String interpolation\n",
        "\n"
      ]
    },
    {
      "cell_type": "markdown",
      "source": [
        "%\n",
        "\n"
      ],
      "metadata": {
        "id": "uzJ7byab9kiG"
      }
    },
    {
      "cell_type": "code",
      "execution_count": null,
      "metadata": {
        "id": "mo5cwN3n3YB4"
      },
      "outputs": [],
      "source": [
        "a = 1\n",
        "b = 2\n",
        "print(\"%d + %d = %d\" % (a, b, a+b))\n",
        "\n"
      ]
    },
    {
      "cell_type": "code",
      "source": [
        "a = 1\n",
        "b = 2\n",
        "print(\"%s + %s = %s\" % (a, b, a+b))\n"
      ],
      "metadata": {
        "id": "O5nHJ_tN6Abm"
      },
      "execution_count": null,
      "outputs": []
    },
    {
      "cell_type": "code",
      "source": [
        "a = 1.0\n",
        "b = 2\n",
        "print(\"%s + %s = %s\" % (a, b, a+b))\n"
      ],
      "metadata": {
        "id": "GIHJkAVp6FYO"
      },
      "execution_count": null,
      "outputs": []
    },
    {
      "cell_type": "code",
      "source": [
        "a = 1.0\n",
        "b = 2\n",
        "print(\"%d + %d = %d\" % (a, b, a+b))\n"
      ],
      "metadata": {
        "id": "9IQDwNsw6TW-"
      },
      "execution_count": null,
      "outputs": []
    },
    {
      "cell_type": "code",
      "source": [
        "a = 1.0\n",
        "b = 2\n",
        "print(\"%f + %f = %f\" % (a, b, a+b))\n"
      ],
      "metadata": {
        "id": "ZeFE3kQ48sd-"
      },
      "execution_count": null,
      "outputs": []
    },
    {
      "cell_type": "code",
      "source": [
        "a = 1.0\n",
        "b = 23456000000000000000\n",
        "print(\"%g + %g = %g\" % (a, b, a+b))\n"
      ],
      "metadata": {
        "id": "kuBn0Xfs6hbF"
      },
      "execution_count": null,
      "outputs": []
    },
    {
      "cell_type": "code",
      "source": [
        "a = 1.0\n",
        "b = 2\n",
        "c = a * b\n",
        "print(\"%s * %s = %s\" % (a, b, c))\n",
        "\n"
      ],
      "metadata": {
        "id": "X6PciJT362nW"
      },
      "execution_count": null,
      "outputs": []
    },
    {
      "cell_type": "code",
      "source": [
        "aa = \"real 1.0\"\n",
        "bb = 3\n",
        "cc = aa * bb\n",
        "print(\"%s * %s = %s\" % (aa, bb, cc))\n",
        "\n"
      ],
      "metadata": {
        "id": "QZTqzRqr6tzO"
      },
      "execution_count": null,
      "outputs": []
    },
    {
      "cell_type": "markdown",
      "source": [
        "Following code would raise an exception<br>\n",
        "아래 코드는 예외를 발생시킬 것이다.\n",
        "\n"
      ],
      "metadata": {
        "id": "woSSO4NH-Mo_"
      }
    },
    {
      "cell_type": "code",
      "source": [
        "aa = \"real 1.0\"\n",
        "bb = 3\n",
        "cc = aa * bb\n",
        "try:\n",
        "  print(\"%f * %f = %f\" % (aa, bb, cc))\n",
        "except TypeError as e:\n",
        "  print(e)\n",
        "\n"
      ],
      "metadata": {
        "id": "J44NUARQ7XdW"
      },
      "execution_count": null,
      "outputs": []
    },
    {
      "cell_type": "markdown",
      "source": [
        "`.format()`\n",
        "\n"
      ],
      "metadata": {
        "id": "ntbH7zUG9uW-"
      }
    },
    {
      "cell_type": "code",
      "execution_count": null,
      "metadata": {
        "id": "Y5tXrS6f3YB4"
      },
      "outputs": [],
      "source": [
        "print(\"{} + {} = {}\".format(a, b, a+b))\n",
        "\n"
      ]
    },
    {
      "cell_type": "markdown",
      "source": [
        "f-string\n",
        "\n"
      ],
      "metadata": {
        "id": "C5Q4DOQ29xBm"
      }
    },
    {
      "cell_type": "code",
      "execution_count": null,
      "metadata": {
        "id": "fhlJdfG43YB4"
      },
      "outputs": [],
      "source": [
        "print(f\"{a} + {b} = {a+b}\")\n",
        "\n"
      ]
    },
    {
      "cell_type": "markdown",
      "metadata": {
        "id": "o7sSw2IV3YB5"
      },
      "source": [
        "### 함수<br>Functions\n",
        "\n"
      ]
    },
    {
      "cell_type": "markdown",
      "metadata": {
        "id": "nAh_ff_Q3YB5"
      },
      "source": [
        "자주 반복되는 코드는 함수로 모아 두면 편리하다.<br>\n",
        "It is convenient to wrap a frequently used code block into a function.\n",
        "\n"
      ]
    },
    {
      "cell_type": "code",
      "execution_count": null,
      "metadata": {
        "id": "RCEodrB83YB5"
      },
      "outputs": [],
      "source": [
        "print(2 * 'a')\n",
        "\n"
      ]
    },
    {
      "cell_type": "markdown",
      "metadata": {
        "id": "Ks7915US3YB5"
      },
      "source": [
        "파이썬 함수는 `def` 로 시작한다.<br>`def` keyword indicates the beginning of a function.\n",
        "\n"
      ]
    },
    {
      "cell_type": "markdown",
      "metadata": {
        "id": "b6Zzwiw23YB6"
      },
      "source": [
        "`def` 다음에는 함수의 이름이 자리한다.<br>Next to the `def` keyword is the name of the function.\n",
        "\n"
      ]
    },
    {
      "cell_type": "markdown",
      "metadata": {
        "id": "C8NkKqe43YB6"
      },
      "source": [
        "함수의 이름 뒤의 `(` `)` 안에는 매개변수가 들어간다.<br>The arguments are in the `(` `)` after the name.\n",
        "\n"
      ]
    },
    {
      "cell_type": "markdown",
      "metadata": {
        "id": "6xL_o_Re3YB6"
      },
      "source": [
        "함수의 내용에 해당하는 행은 들여쓰기로 표시한다.<br>The lines belong to the function are indented.\n",
        "\n"
      ]
    },
    {
      "cell_type": "markdown",
      "metadata": {
        "id": "K0khhMii3YB7"
      },
      "source": [
        "`return` 으로 결과를 반환한다.<br>Values after the `return` will be the results of the function.\n",
        "\n"
      ]
    },
    {
      "cell_type": "code",
      "execution_count": null,
      "metadata": {
        "id": "ZkkFfWuQ3YB7"
      },
      "outputs": [],
      "source": [
        "def twice(x):\n",
        "    return 2 * x\n",
        "\n"
      ]
    },
    {
      "cell_type": "markdown",
      "metadata": {
        "id": "ma65w5yi3YB7"
      },
      "source": [
        "아래는 함수를 호출 한 예 이다.<br>\n",
        "   We can call a function as follows.\n",
        "\n"
      ]
    },
    {
      "cell_type": "markdown",
      "metadata": {
        "id": "MFwMs4Mp3YB7"
      },
      "source": [
        "함수의 이름 뒤에 괄호 `(` `)` 를 열고 전달할 매개변수 값을 나열한 뒤 괄호를 닫는다.<br>\n",
        "   Between the parenthesis `(` `)` after the function name, list the parameter valuse.\n",
        "\n"
      ]
    },
    {
      "cell_type": "code",
      "execution_count": null,
      "metadata": {
        "id": "vDMd4WDq3YB8"
      },
      "outputs": [],
      "source": [
        "b = twice('a')\n",
        "print(b)\n",
        "\n"
      ]
    },
    {
      "cell_type": "markdown",
      "metadata": {
        "id": "91tpjuJA3YB8"
      },
      "source": [
        "여기서 함수 `twice()` 가 반환한 값은 변수 `b`에 저장된다.<br>Here, the returned value from the function `twice()` is stored in the variable `b`.\n",
        "\n"
      ]
    },
    {
      "cell_type": "markdown",
      "metadata": {
        "id": "zDz-kDgO3YB8"
      },
      "source": [
        "#### 변수의 유효범위<br>Scope of variables\n",
        "\n"
      ]
    },
    {
      "cell_type": "markdown",
      "metadata": {
        "id": "jDN1v4AQ3YB9"
      },
      "source": [
        "함수 안에서 함수 밖에 정의된 변수 값을 읽을 수 있다.<br>\n",
        "Within a function, the variables defined outside are available.\n",
        "\n"
      ]
    },
    {
      "cell_type": "code",
      "execution_count": null,
      "metadata": {
        "id": "w4B6wn003YB9"
      },
      "outputs": [],
      "source": [
        "a = 1\n",
        "\n"
      ]
    },
    {
      "cell_type": "code",
      "execution_count": null,
      "metadata": {
        "id": "yk-qa67M3YB9"
      },
      "outputs": [],
      "source": [
        "def can_this_use_a(x):\n",
        "    print(\"a =\", a)\n",
        "    return a + x\n",
        "\n"
      ]
    },
    {
      "cell_type": "code",
      "execution_count": null,
      "metadata": {
        "id": "U0-gxCYY3YB9"
      },
      "outputs": [],
      "source": [
        "can_this_use_a(2)\n",
        "\n"
      ]
    },
    {
      "cell_type": "markdown",
      "metadata": {
        "id": "-JgEADos3YB9"
      },
      "source": [
        "함수 안에서 정의된 변수는 함수 밖에서 읽을 수 없다.<br>\n",
        "Outside of a function, the variables defined inside are not accessable.\n",
        "\n"
      ]
    },
    {
      "cell_type": "code",
      "execution_count": null,
      "metadata": {
        "id": "kG3I6ZTU3YB-"
      },
      "outputs": [],
      "source": [
        "def can_you_read_b(x):\n",
        "    b_in_function = 2\n",
        "    print(\"b_in_function =\", b_in_function)\n",
        "    return b_in_function + x\n",
        "\n"
      ]
    },
    {
      "cell_type": "code",
      "execution_count": null,
      "metadata": {
        "id": "Fs5dsHKS3YB-"
      },
      "outputs": [],
      "source": [
        "can_you_read_b(2)\n",
        "\n"
      ]
    },
    {
      "cell_type": "code",
      "execution_count": null,
      "metadata": {
        "id": "wzB8BK1V3YB-"
      },
      "outputs": [],
      "source": [
        "try:\n",
        "    # 아래 행은 오류를 발생시킬 것이다.\n",
        "    # Following line would cause an error\n",
        "    print(\"b_in_function =\", b_in_function)\n",
        "except NameError as e:\n",
        "    # 위 try: 와 except 사이에서 오류가 발생하면 아래 행이 실행\n",
        "    # In case of an error between try and except, following line runs\n",
        "    print(\"NameError:\",e)\n",
        "\n"
      ]
    },
    {
      "cell_type": "markdown",
      "metadata": {
        "id": "luLQFWiQ3YB-"
      },
      "source": [
        "함수가 실행이 종료되면, 함수 안에서 정의된 변수는 사라진다.<br>\n",
        "When the function finishes running, the variable inside of the function disappears.\n",
        "\n"
      ]
    },
    {
      "cell_type": "markdown",
      "metadata": {
        "id": "Mx7wcqvJ3YB_"
      },
      "source": [
        "함수 안의 변수가 우선한다.<br>\n",
        "Variables inside of the function has higher priority.<br>\n",
        "함수 안에서 변수값을 할당해도 함수 밖 변수 값에 영향을 주지 않는다.<br>\n",
        "Assigining a variable within a function does not influence the variable outside of the function.\n",
        "\n"
      ]
    },
    {
      "cell_type": "code",
      "execution_count": null,
      "metadata": {
        "id": "VqgF2x3t3YB_"
      },
      "outputs": [],
      "source": [
        "z = 1\n",
        "\n",
        "def x_times_z(x):\n",
        "  z = 2\n",
        "  return x * z\n",
        "\n"
      ]
    },
    {
      "cell_type": "code",
      "execution_count": null,
      "metadata": {
        "id": "hQoQaCh63YB_"
      },
      "outputs": [],
      "source": [
        "print(x_times_z(z), z)\n",
        "\n"
      ]
    },
    {
      "cell_type": "markdown",
      "metadata": {
        "id": "BPgXBafE3YB_"
      },
      "source": [
        "#### 함수의 기본 매개변수<br>Default Arguments\n",
        "\n"
      ]
    },
    {
      "cell_type": "markdown",
      "metadata": {
        "id": "dd5GaECh3YB_"
      },
      "source": [
        "파이썬 함수를 정의할 때 매개변수에 기본값을 정해놓을 수 있다.<br>\n",
        "One may designate a default value when defining a python function.\n",
        "\n"
      ]
    },
    {
      "cell_type": "code",
      "execution_count": null,
      "metadata": {
        "id": "7V-h6mxd3YCA"
      },
      "outputs": [],
      "source": [
        "def ax_plus_b(x, a=2, b=3):\n",
        "\n",
        "    print(f'x = {x}', end=', ')\n",
        "    print(f'a = {a}', end=', ')\n",
        "    print(f'b = {b}')\n",
        "    \n",
        "    return a * x + b\n",
        "\n"
      ]
    },
    {
      "cell_type": "code",
      "execution_count": null,
      "metadata": {
        "id": "ELXtG9WS3YCA"
      },
      "outputs": [],
      "source": [
        "ax_plus_b(1, 2, 3)\n",
        "\n"
      ]
    },
    {
      "cell_type": "code",
      "execution_count": null,
      "metadata": {
        "id": "CaCugXK83YCA"
      },
      "outputs": [],
      "source": [
        "ax_plus_b(1)\n",
        "\n"
      ]
    },
    {
      "cell_type": "code",
      "execution_count": null,
      "metadata": {
        "id": "7AXdodF63YCA"
      },
      "outputs": [],
      "source": [
        "ax_plus_b(1, 1)\n",
        "\n"
      ]
    },
    {
      "cell_type": "code",
      "execution_count": null,
      "metadata": {
        "id": "vgOT-rGE3YCB"
      },
      "outputs": [],
      "source": [
        "ax_plus_b(1, b=1)\n",
        "\n"
      ]
    },
    {
      "cell_type": "markdown",
      "metadata": {
        "id": "JIvMCqhq3YCB"
      },
      "source": [
        "#### 매개변수로서의 함수의 이름을 전달하는 경우<br>Passing a function's name as an argument\n",
        "\n"
      ]
    },
    {
      "cell_type": "markdown",
      "metadata": {
        "id": "lxkPa4bg3YCB"
      },
      "source": [
        "아래 두 함수가 주어져 있다.<br>Following two functions are given.\n",
        "\n"
      ]
    },
    {
      "cell_type": "code",
      "execution_count": null,
      "metadata": {
        "id": "UALwQdON3YCB"
      },
      "outputs": [],
      "source": [
        "def add(a, b):\n",
        "    return a + b\n",
        "\n",
        "def mul(a, b):\n",
        "    return a * b\n",
        "\n"
      ]
    },
    {
      "cell_type": "markdown",
      "metadata": {
        "id": "K92enC023YCB"
      },
      "source": [
        "아래와 같은 함수를 생각해 보자.<br>Let's consider a function as follows.\n",
        "\n"
      ]
    },
    {
      "cell_type": "code",
      "execution_count": null,
      "metadata": {
        "id": "ZdMlKj6z3YCB"
      },
      "outputs": [],
      "source": [
        "def calc(op, aa, bb):\n",
        "    return op(aa, bb)\n",
        "\n"
      ]
    },
    {
      "cell_type": "markdown",
      "metadata": {
        "id": "oomceiZ23YCB"
      },
      "source": [
        "여기서 매개변수 `op`로 다른 함수의 이름을 전달해 보자.<br>Here, let's pass another function's name as the argument `op`.\n",
        "\n"
      ]
    },
    {
      "cell_type": "code",
      "execution_count": null,
      "metadata": {
        "id": "4bRRlm1b3YCC"
      },
      "outputs": [],
      "source": [
        "print(calc(add, 1, 2))\n",
        "\n"
      ]
    },
    {
      "cell_type": "code",
      "execution_count": null,
      "metadata": {
        "id": "ehB-LlWQ3YCC"
      },
      "outputs": [],
      "source": [
        "print(calc(mul, 1, 2))\n",
        "\n"
      ]
    },
    {
      "cell_type": "markdown",
      "metadata": {
        "id": "lhUpbvTN3YCC"
      },
      "source": [
        "위 두 함수 호출의 결과에 대해 어떻게 생각하는가?<br>What do you think about the results of the two function calls above.\n",
        "\n"
      ]
    },
    {
      "cell_type": "markdown",
      "metadata": {
        "id": "yo4DpStN3YCC"
      },
      "source": [
        "## 모음<br>Collection\n",
        "\n"
      ]
    },
    {
      "cell_type": "markdown",
      "metadata": {
        "id": "Zvv5a6Bn3YCC"
      },
      "source": [
        "모음은 여러 데이터를 한 **이름** 아래 저장한 것이다.<br>\n",
        "Collection contains multiple data under one **name**.\n",
        "\n"
      ]
    },
    {
      "cell_type": "markdown",
      "metadata": {
        "id": "ZEb_Hr713YCC"
      },
      "source": [
        "Python 에서은 기본적으로 `list()`, `tuple()`, `dict()`, `set()` 과 같은 데이터 모음이 사용가능하다.<br>\n",
        "In python, data collections such as `list()`, `tuple()`, `dict()`, and `set()` are available built-in.\n",
        "\n"
      ]
    },
    {
      "cell_type": "markdown",
      "metadata": {
        "id": "m-nRwrWp3YCC"
      },
      "source": [
        "### 리스트<br>List\n",
        "\n"
      ]
    },
    {
      "cell_type": "markdown",
      "metadata": {
        "id": "13nL9_Ad3YCD"
      },
      "source": [
        "리스트는 순서 대로 몇개의 자료를 모은 것이다.<br>\n",
        "A `list()` is a collection of data in a sequnce.\n",
        "\n"
      ]
    },
    {
      "cell_type": "code",
      "execution_count": null,
      "metadata": {
        "id": "3nFSRWdy3YCD"
      },
      "outputs": [],
      "source": [
        "x = list([1, 3, 5, 7, 9])\n",
        "x\n",
        "\n"
      ]
    },
    {
      "cell_type": "markdown",
      "metadata": {
        "id": "v2k9c0143YCD"
      },
      "source": [
        "`len()` 함수를 이용하여 리스트의 항목 수를 알 수 있다.<br>\n",
        "Calling function `len()` one can find the number of items within a list.\n",
        "\n"
      ]
    },
    {
      "cell_type": "code",
      "execution_count": null,
      "metadata": {
        "id": "1u34OI_a3YCD"
      },
      "outputs": [],
      "source": [
        "len(x)\n",
        "\n"
      ]
    },
    {
      "cell_type": "markdown",
      "metadata": {
        "id": "W7qwMq5h3YCD"
      },
      "source": [
        "항목을 `[` `]` 로 둘러 싸서 만들 수도 있다.<br>\n",
        "One can also make a list by wrapping items with `[` and `]`.\n",
        "\n"
      ]
    },
    {
      "cell_type": "code",
      "execution_count": null,
      "metadata": {
        "id": "3KU6Hirt3YCD"
      },
      "outputs": [],
      "source": [
        "y = [1, 2, 3, 4]\n",
        "y\n",
        "\n"
      ]
    },
    {
      "cell_type": "code",
      "execution_count": null,
      "metadata": {
        "id": "B0NJuNyD3YCD"
      },
      "outputs": [],
      "source": [
        "len(y)\n",
        "\n"
      ]
    },
    {
      "cell_type": "markdown",
      "metadata": {
        "id": "vRrK0I-T3YCE"
      },
      "source": [
        "문자열로부터 list를 만들 수도 있다.<br>\n",
        "A list can be made from a string.\n",
        "\n"
      ]
    },
    {
      "cell_type": "code",
      "execution_count": null,
      "metadata": {
        "id": "QzNRv0Wi3YCE"
      },
      "outputs": [],
      "source": [
        "a_list = list('abc')\n",
        "a_list\n",
        "\n"
      ]
    },
    {
      "cell_type": "markdown",
      "metadata": {
        "id": "lLmUZNZo3YCE"
      },
      "source": [
        "항목을 추가할 수 있다.<br>We may add more items."
      ]
    },
    {
      "cell_type": "code",
      "execution_count": null,
      "metadata": {
        "id": "gvxS2N5D3YCE"
      },
      "outputs": [],
      "source": [
        "a_list.append('d')\n",
        "a_list\n",
        "\n"
      ]
    },
    {
      "cell_type": "markdown",
      "metadata": {
        "id": "DNi7vKSw3YCE"
      },
      "source": [
        "다른 list를 붙인 새로운 list를 만들 수도 있다.<br>We may make a new list by connecting multiple lists."
      ]
    },
    {
      "cell_type": "code",
      "execution_count": null,
      "metadata": {
        "id": "VyyA3HxB3YCE"
      },
      "outputs": [],
      "source": [
        "z_list = a_list + ['yy', 'zzz']\n",
        "z_list\n",
        "\n"
      ]
    },
    {
      "cell_type": "markdown",
      "metadata": {
        "id": "U5OxdzOZ3YCE"
      },
      "source": [
        "#### 항목 지정<br>Indexing an item (or items)\n",
        "\n"
      ]
    },
    {
      "cell_type": "markdown",
      "metadata": {
        "id": "ueDvTtkN3YCE"
      },
      "source": [
        "각 항목을 읽거나 쓰기 위해 인덱스로 순서를 지정한다.<br>\n",
        "To access each item, you can indicate by its index.\n",
        "\n"
      ]
    },
    {
      "cell_type": "markdown",
      "metadata": {
        "id": "FOdiaDlx3YCF"
      },
      "source": [
        "첫 항목의 인덱스는 0 이다.  이후는 1씩 증가한다.<br>\n",
        "Index 0 indicates the first item.  Afterward, it increases by one each.\n",
        "\n"
      ]
    },
    {
      "cell_type": "markdown",
      "metadata": {
        "id": "qb4toQOX3YCF"
      },
      "source": [
        "리스트 변수 이름 뒤 대괄호 `[` `]` 사이에 해당 인덱스 값을 넣는다.<br>\n",
        "The index places between the brakets `[` `]` after the name of the list variable.\n",
        "\n"
      ]
    },
    {
      "cell_type": "code",
      "execution_count": null,
      "metadata": {
        "id": "1ki36-d93YCF"
      },
      "outputs": [],
      "source": [
        "x[0]\n",
        "\n"
      ]
    },
    {
      "cell_type": "code",
      "execution_count": null,
      "metadata": {
        "id": "mn01CI-z3YCF"
      },
      "outputs": [],
      "source": [
        "x[1]\n",
        "\n"
      ]
    },
    {
      "cell_type": "markdown",
      "metadata": {
        "id": "zH1YH50F3YCF"
      },
      "source": [
        "`-1` 은 마지막 항목을 가리킨다.<br>\n",
        "`-` indicates the last item.\n",
        "\n"
      ]
    },
    {
      "cell_type": "code",
      "execution_count": null,
      "metadata": {
        "id": "tH33aSEg3YCF"
      },
      "outputs": [],
      "source": [
        "x[-1]\n",
        "\n"
      ]
    },
    {
      "cell_type": "code",
      "execution_count": null,
      "metadata": {
        "id": "dDUDsePk3YCF"
      },
      "outputs": [],
      "source": [
        "y[-1]\n",
        "\n"
      ]
    },
    {
      "cell_type": "markdown",
      "metadata": {
        "id": "dI2Nijnk3YCF"
      },
      "source": [
        "`:` 로 여러 항목을 선택할 수도 있다. 이를 *슬라이싱* 이라고 한다.<br>\n",
        "`:` can indicate multiple items. It is called *slicing*.\n",
        "\n"
      ]
    },
    {
      "cell_type": "code",
      "execution_count": null,
      "metadata": {
        "id": "OZB1ajtH3YCG"
      },
      "outputs": [],
      "source": [
        "z = list(range(21))\n",
        "z\n",
        "\n"
      ]
    },
    {
      "cell_type": "code",
      "execution_count": null,
      "metadata": {
        "id": "6gYxNjpF3YCG"
      },
      "outputs": [],
      "source": [
        "z[2]\n",
        "\n"
      ]
    },
    {
      "cell_type": "code",
      "execution_count": null,
      "metadata": {
        "id": "dKlTzhf-3YCG"
      },
      "outputs": [],
      "source": [
        "z[:2]\n",
        "\n"
      ]
    },
    {
      "cell_type": "markdown",
      "metadata": {
        "id": "xDE7Vi873YCG"
      },
      "source": [
        "위 결과에 `z[2]` 가 포함되었는가?<br>\n",
        "Does the result above include `z[2]`?\n",
        "\n"
      ]
    },
    {
      "cell_type": "code",
      "execution_count": null,
      "metadata": {
        "id": "pOQVcPZ03YCG"
      },
      "outputs": [],
      "source": [
        "z[2:]\n",
        "\n"
      ]
    },
    {
      "cell_type": "markdown",
      "metadata": {
        "id": "NM-gDPyG3YCG"
      },
      "source": [
        "위 결과에 `z[2]` 가 포함되었는가?<br>\n",
        "Does the result above include `z[2]`?\n",
        "\n"
      ]
    },
    {
      "cell_type": "code",
      "execution_count": null,
      "metadata": {
        "id": "SRWIOTqX3YCG"
      },
      "outputs": [],
      "source": [
        "z[2:12]\n",
        "\n"
      ]
    },
    {
      "cell_type": "markdown",
      "metadata": {
        "id": "xKbWb5rI3YCH"
      },
      "source": [
        "이번에는 무엇이 달라졌는가?<br>\n",
        "What is different this time?\n",
        "\n"
      ]
    },
    {
      "cell_type": "code",
      "execution_count": null,
      "metadata": {
        "id": "y5jf1q2r3YCH"
      },
      "outputs": [],
      "source": [
        "z[2:12:2]\n",
        "\n"
      ]
    },
    {
      "cell_type": "markdown",
      "metadata": {
        "id": "qu8mQyTw3YCH"
      },
      "source": [
        "마지막 `:2`의 역할은 무엇인가?<br>\n",
        "What is the role of the `:2` at the end?\n",
        "\n"
      ]
    },
    {
      "cell_type": "code",
      "execution_count": null,
      "metadata": {
        "id": "T7TnpKw_3YCH"
      },
      "outputs": [],
      "source": [
        "z[2:12:3]\n",
        "\n"
      ]
    },
    {
      "cell_type": "code",
      "execution_count": null,
      "metadata": {
        "id": "tmVMWP2u3YCH"
      },
      "outputs": [],
      "source": [
        "z[2:12:4]\n",
        "\n"
      ]
    },
    {
      "cell_type": "markdown",
      "metadata": {
        "id": "YJAxHGI63YCH"
      },
      "source": [
        "`range()` 함수의 세 매개변수의 각각의 역할은 무엇인가?<br>\n",
        "What are the respective roles of the three arguments of the `range()` function ?\n",
        "\n"
      ]
    },
    {
      "cell_type": "markdown",
      "metadata": {
        "id": "L8QwfULy3YCI"
      },
      "source": [
        "#### 소속 여부<br>Membership\n",
        "\n"
      ]
    },
    {
      "cell_type": "markdown",
      "metadata": {
        "id": "6yy41vP43YCI"
      },
      "source": [
        "`in` 연산자로 어떤 항목이 어떤 list 에 포함되어 있는지 알 수 있다.<br>\n",
        "`in` operater can tell us if a list has a certain item.\n",
        "\n"
      ]
    },
    {
      "cell_type": "code",
      "execution_count": null,
      "metadata": {
        "id": "qQ0wtpn63YCI"
      },
      "outputs": [],
      "source": [
        "'a' in z_list\n",
        "\n"
      ]
    },
    {
      "cell_type": "code",
      "execution_count": null,
      "metadata": {
        "id": "WU6GFX9s3YCI"
      },
      "outputs": [],
      "source": [
        "'b' in z_list\n",
        "\n"
      ]
    },
    {
      "cell_type": "code",
      "execution_count": null,
      "metadata": {
        "id": "bOXr_Ooc3YCI"
      },
      "outputs": [],
      "source": [
        "'z' in z_list\n",
        "\n"
      ]
    },
    {
      "cell_type": "code",
      "execution_count": null,
      "metadata": {
        "id": "1SUyhu5F3YCJ"
      },
      "outputs": [],
      "source": [
        "'zzz' in z_list\n",
        "\n"
      ]
    },
    {
      "cell_type": "markdown",
      "metadata": {
        "id": "RPSv497U3YCJ"
      },
      "source": [
        "### list & tuple\n",
        "\n"
      ]
    },
    {
      "cell_type": "markdown",
      "metadata": {
        "id": "UaNSl9tV3YCJ"
      },
      "source": [
        "리스트 `list` 와 튜플 `tuple` 모두 여러 항목을 저장할 수 있다.<br>Both `list` and `tuple` can store multiple items.\n",
        "\n"
      ]
    },
    {
      "cell_type": "markdown",
      "metadata": {
        "id": "wqW79vSA3YCJ"
      },
      "source": [
        "또한 각 항목을 순서로 구분한다.<br>Also, distinguish each item with the order.\n",
        "\n"
      ]
    },
    {
      "cell_type": "markdown",
      "metadata": {
        "id": "_TSuzQMy3YCJ"
      },
      "source": [
        "리스트는 항목을 변경 추가 삭제할 수 있으나 (mutable) 튜플은 한번 만들어지면 변경할 수 없다 (immutable).<br>We may change, add, or remove items in lists (mutable) but we cannot with tuples (immutable).\n",
        "\n"
      ]
    },
    {
      "cell_type": "markdown",
      "metadata": {
        "id": "tsR05zU_3YCJ"
      },
      "source": [
        "예를 들어 다음을 생각해 보자.<br>Let's check the followings.\n",
        "\n"
      ]
    },
    {
      "cell_type": "code",
      "execution_count": null,
      "metadata": {
        "id": "voTWqBeO3YCJ"
      },
      "outputs": [],
      "source": [
        "x_list = [1, 2, 3]\n",
        "print(\"before :\", x_list)\n",
        "x_list[0] = '0'\n",
        "print(\"after :\", x_list)\n",
        "\n"
      ]
    },
    {
      "cell_type": "markdown",
      "metadata": {
        "id": "Ed2lHxuf3YCK"
      },
      "source": [
        "튜플 tuple 의 경우, 항목을 바꿀 수 없으므로 아래 예에서 예외 Exception 가 발생한다.<br>\n",
        "Because a tuple does not allow chaning one of its items, following example would raise an Exception.\n",
        "\n"
      ]
    },
    {
      "cell_type": "code",
      "execution_count": null,
      "metadata": {
        "id": "AHbjxwB03YCK"
      },
      "outputs": [],
      "source": [
        "try:\n",
        "    z_tuple = (4, 5, 6)\n",
        "    print(\"before :\", z_tuple)\n",
        "    z_tuple[0] = '0'\n",
        "    print(\"after :\", z_tuple)\n",
        "except TypeError as e:\n",
        "    print(e)\n",
        "    print('cannot change an item in tuple')\n",
        "\n"
      ]
    },
    {
      "cell_type": "markdown",
      "metadata": {
        "id": "9wPJQBYT3YCK"
      },
      "source": [
        "### 딕셔너리<br>Dictionary\n",
        "\n"
      ]
    },
    {
      "cell_type": "markdown",
      "metadata": {
        "id": "0rqGFef93YCK"
      },
      "source": [
        "순서로 각 요소를 구분하는 list 나 tuple 과는 달리 `dict`는 key - value 쌍을 저장한다.<br>Unlike list or tuple distinguishing items by the sequence, `dict` stores key - value pairs.\n",
        "\n"
      ]
    },
    {
      "cell_type": "code",
      "execution_count": null,
      "metadata": {
        "id": "PJbf-_u73YCK"
      },
      "outputs": [],
      "source": [
        "a_dict = {'one': 1, 'two': 2, }\n",
        "\n"
      ]
    },
    {
      "cell_type": "code",
      "execution_count": null,
      "metadata": {
        "id": "3Kzd3VwB3YCL"
      },
      "outputs": [],
      "source": [
        "a_dict\n",
        "\n"
      ]
    },
    {
      "cell_type": "code",
      "execution_count": null,
      "metadata": {
        "id": "DDJICaAV3YCL"
      },
      "outputs": [],
      "source": [
        "a_dict[\"one\"]\n",
        "\n"
      ]
    },
    {
      "cell_type": "markdown",
      "metadata": {
        "id": "ye92xT6e3YCL"
      },
      "source": [
        "(하나 또는 여러개의) 새로운 key - value 쌍을 추가할 수도 있다.<br>One can add a new key - value pair(or pairs).\n",
        "\n"
      ]
    },
    {
      "cell_type": "code",
      "execution_count": null,
      "metadata": {
        "id": "soIBz-cs3YCL"
      },
      "outputs": [],
      "source": [
        "a_dict[\"three\"] = 3\n",
        "\n"
      ]
    },
    {
      "cell_type": "code",
      "execution_count": null,
      "metadata": {
        "id": "ITVD02eq3YCL"
      },
      "outputs": [],
      "source": [
        "a_dict\n",
        "\n"
      ]
    },
    {
      "cell_type": "markdown",
      "metadata": {
        "id": "KWtBEByA3YCM"
      },
      "source": [
        "#### `.get()`\n",
        "\n"
      ]
    },
    {
      "cell_type": "code",
      "execution_count": null,
      "metadata": {
        "id": "DznJVuTd3YCM"
      },
      "outputs": [],
      "source": [
        "\"one\" in a_dict\n",
        "\n"
      ]
    },
    {
      "cell_type": "code",
      "execution_count": null,
      "metadata": {
        "id": "9ZwoeE_t3YCN"
      },
      "outputs": [],
      "source": [
        "a_dict.keys()\n",
        "\n"
      ]
    },
    {
      "cell_type": "code",
      "execution_count": null,
      "metadata": {
        "id": "BqJoTLI33YCV"
      },
      "outputs": [],
      "source": [
        "\"one\" in a_dict.keys()\n",
        "\n"
      ]
    },
    {
      "cell_type": "code",
      "execution_count": null,
      "metadata": {
        "id": "64tMR5xI3YCW"
      },
      "outputs": [],
      "source": [
        "a_dict[\"one\"]\n",
        "\n"
      ]
    },
    {
      "cell_type": "code",
      "execution_count": null,
      "metadata": {
        "id": "rrCP2y353YCW"
      },
      "outputs": [],
      "source": [
        "a_dict.get(\"one\")\n",
        "\n"
      ]
    },
    {
      "cell_type": "code",
      "execution_count": null,
      "metadata": {
        "id": "yUiAh00f3YCW"
      },
      "outputs": [],
      "source": [
        "\"ten\" in a_dict\n",
        "\n"
      ]
    },
    {
      "cell_type": "code",
      "execution_count": null,
      "metadata": {
        "id": "EpVH5kQg3YCW"
      },
      "outputs": [],
      "source": [
        "try:\n",
        "    a_dict[\"ten\"]\n",
        "except KeyError as e:\n",
        "    print(\"KeyError:\", e)\n",
        "\n"
      ]
    },
    {
      "cell_type": "code",
      "execution_count": null,
      "metadata": {
        "id": "_8ME6PdM3YCW"
      },
      "outputs": [],
      "source": [
        "a_dict.get(\"ten\")\n",
        "\n"
      ]
    },
    {
      "cell_type": "code",
      "execution_count": null,
      "metadata": {
        "id": "4c77b-qj3YCW"
      },
      "outputs": [],
      "source": [
        "a_dict.get(\"ten\", '''Does not have \"ten\" yet.''')\n",
        "\n"
      ]
    },
    {
      "cell_type": "markdown",
      "metadata": {
        "id": "8GiAucL93YCW"
      },
      "source": [
        "#### `.update()`\n",
        "\n"
      ]
    },
    {
      "cell_type": "code",
      "execution_count": null,
      "metadata": {
        "id": "5DKWfJA03YCX"
      },
      "outputs": [],
      "source": [
        "dict_b = {\"three\": \"###\", \"four\": \"$$$$\"}\n",
        "\n"
      ]
    },
    {
      "cell_type": "code",
      "execution_count": null,
      "metadata": {
        "id": "TWza05b73YCX"
      },
      "outputs": [],
      "source": [
        "dict_b\n",
        "\n"
      ]
    },
    {
      "cell_type": "code",
      "execution_count": null,
      "metadata": {
        "id": "gRVKYdAp3YCX"
      },
      "outputs": [],
      "source": [
        "for n, d in ((\"a_dict\", a_dict), (\"dict_b\", dict_b)):\n",
        "  for k in (\"three\", \"four\"):\n",
        "    print(f\"{k} in {n} :\", k in d)\n",
        "\n"
      ]
    },
    {
      "cell_type": "code",
      "execution_count": null,
      "metadata": {
        "id": "vRmdQFeD3YCX"
      },
      "outputs": [],
      "source": [
        "a_dict.update(dict_b)\n",
        "\n"
      ]
    },
    {
      "cell_type": "markdown",
      "metadata": {
        "id": "kHlxni323YCX"
      },
      "source": [
        "## `if` `elif` `else`\n",
        "\n"
      ]
    },
    {
      "cell_type": "markdown",
      "metadata": {
        "id": "Afqjc3WV3YCX"
      },
      "source": [
        "어떤 논리 연산의 결과에 따라 특정 코드를 실행시키도록 할 수 있다.<br>\n",
        "Depending on the result of a logical operation, we may activate a certain block of code to run.\n",
        "\n"
      ]
    },
    {
      "cell_type": "code",
      "execution_count": null,
      "metadata": {
        "id": "hlww0H-N3YCX"
      },
      "outputs": [],
      "source": [
        "a = 1\n",
        "\n"
      ]
    },
    {
      "cell_type": "code",
      "execution_count": null,
      "metadata": {
        "id": "OhoFb7TY3YCY"
      },
      "outputs": [],
      "source": [
        "if 1 == a:\n",
        "    print(\"Variable `a` contains one\")\n",
        "\n"
      ]
    },
    {
      "cell_type": "markdown",
      "metadata": {
        "id": "HQsk2ITW3YCY"
      },
      "source": [
        "결과에 따라 특정 코드를 대신 실행시키도록 할 수 있다.<br>\n",
        "Depending on the result, we may make a different block of code to run.\n",
        "\n"
      ]
    },
    {
      "cell_type": "code",
      "execution_count": null,
      "metadata": {
        "id": "i4odmiEr3YCY"
      },
      "outputs": [],
      "source": [
        "if 2 == a:\n",
        "    print(\"Variable `a` is equal to two\")\n",
        "else:\n",
        "    print(\"Variable `a` is not equal to two\")\n",
        "\n"
      ]
    },
    {
      "cell_type": "markdown",
      "metadata": {
        "id": "RUFxnIlB3YCY"
      },
      "source": [
        "또한 여러 논리식을 순차적으로 검토하여 실행할 코드를 선택할 수도 있다.<br>\n",
        "Also, we may choose which code to run by evaluating a series of logical operations.\n",
        "\n"
      ]
    },
    {
      "cell_type": "code",
      "execution_count": null,
      "metadata": {
        "id": "PZxRkl4s3YCY"
      },
      "outputs": [],
      "source": [
        "if 0 < a:\n",
        "    print(\"Variable `a` is positive\")\n",
        "elif 0 > a:\n",
        "    print(\"Variable `a` contains a negative number\")\n",
        "elif 0 == a:\n",
        "    print(\"`a` is zero\")\n",
        "else:\n",
        "    # 상정 이외의 경우에는 오류를 발생시켜야 할 수도 있다.\n",
        "    # On an exceptional case, we may need to raise one.\n",
        "    raise NotImplementedError\n",
        "\n"
      ]
    },
    {
      "cell_type": "markdown",
      "metadata": {
        "id": "W2UYl_SR3YCY"
      },
      "source": [
        "## `for` 반복문<br>`for` iterations\n",
        "\n"
      ]
    },
    {
      "cell_type": "markdown",
      "metadata": {
        "id": "Mg1iWsGj3YCY"
      },
      "source": [
        "어떤 작업을 정해진 횟수 만큼 반복시키고 싶다면 `for` 문을 사용할 수 있다.<br>\n",
        "`for` loops for a fixed number of iterations.\n",
        "\n"
      ]
    },
    {
      "cell_type": "code",
      "execution_count": null,
      "metadata": {
        "id": "CSxdNEjj3YCY"
      },
      "outputs": [],
      "source": [
        "a = 'iteration'\n",
        "\n",
        "for i in [0, 'a', ['b', 2],]:\n",
        "    print(i, a)\n",
        "\n",
        "print(\"end of for block\")\n",
        "\n"
      ]
    },
    {
      "cell_type": "markdown",
      "metadata": {
        "id": "htxdgUN03YCZ"
      },
      "source": [
        "위 셀에서 변수 `i` 는 `in` 다음의 list `[0, 1, 2]` 안의 값을 하나씩 짚을 것이다.<br>In the cell above, the variable `i` will step over the values of the list `[0, 1, 2]` following `in`.\n",
        "\n"
      ]
    },
    {
      "cell_type": "markdown",
      "metadata": {
        "id": "371WxmG43YCZ"
      },
      "source": [
        "`n` 번 반복시키려면 0 부터 `n-1` 까지 발생시키는 `range(n)` 을 사용할 수 있다.<br>\n",
        "To loop `n` iterations, we can use `range(n)` that will generate from 0 to `n-1`.\n",
        "\n"
      ]
    },
    {
      "cell_type": "code",
      "execution_count": null,
      "metadata": {
        "id": "Rta7XZDO3YCZ"
      },
      "outputs": [],
      "source": [
        "a = 'iteration'\n",
        "n = 10\n",
        "\n",
        "for i in range(n):\n",
        "    print(i, a)\n",
        "\n",
        "print(\"end of for block\")\n",
        "\n"
      ]
    },
    {
      "cell_type": "markdown",
      "metadata": {
        "id": "9w2Q24fr3YCZ"
      },
      "source": [
        "`range()` 를 이용하여 새로운 list를 만들어 갈 수도 있다.<br>\n",
        "We may make a new list using the `range()`.\n",
        "\n"
      ]
    },
    {
      "cell_type": "code",
      "execution_count": null,
      "metadata": {
        "id": "ci2TQkzE3YCZ"
      },
      "outputs": [],
      "source": [
        "square = []\n",
        "n = 10\n",
        "\n",
        "for i in range(n):\n",
        "    square.append(i * i)\n",
        "    print(\"i =\", i, \", square =\", square)\n",
        "\n",
        "print(square)\n",
        "\n"
      ]
    },
    {
      "cell_type": "markdown",
      "metadata": {
        "id": "fEeRE9QH3YCa"
      },
      "source": [
        "### 파일 입출력<br>File I/O\n",
        "\n"
      ]
    },
    {
      "cell_type": "markdown",
      "metadata": {
        "id": "vVIrH_hF3YCa"
      },
      "source": [
        "파이썬에서 파일을 읽고 쓸 때는 `open()` 함수를 호출한다.<br>\n",
        "To read from or write to a file in python, we can usually start with calling `open()`.\n",
        "\n"
      ]
    },
    {
      "cell_type": "code",
      "execution_count": null,
      "metadata": {
        "id": "Kil1gWe53YCa"
      },
      "outputs": [],
      "source": [
        "fo = open(\"sample.txt\", \"wt\")\n",
        "fo.write(\"Hello Python!\\n\")\n",
        "fo.close()\n",
        "\n"
      ]
    },
    {
      "cell_type": "markdown",
      "metadata": {
        "id": "W__WgL1i3YCa"
      },
      "source": [
        "`with`와 `as`, 들여쓰기로 파일이 열려 있는 구간을 표시하는 *Context Manager* 방식도 가능하다.<br>We may also use the *Context Manager*. It uses `with` and `as` keywords.  Indentation indicates that the file is open.\n",
        "\n"
      ]
    },
    {
      "cell_type": "code",
      "execution_count": null,
      "metadata": {
        "id": "dpXWU5Te3YCb"
      },
      "outputs": [],
      "source": [
        "with open(\"sample.txt\", \"rt\") as fi:\n",
        "    # file is open\n",
        "    txt = fi.read()\n",
        "# file is now closed\n",
        "print(txt)\n",
        "\n"
      ]
    },
    {
      "cell_type": "markdown",
      "metadata": {
        "id": "hW1WTtR-3YCb"
      },
      "source": [
        "### `import`\n",
        "\n"
      ]
    },
    {
      "cell_type": "markdown",
      "metadata": {
        "id": "wdQzWtY63YCb"
      },
      "source": [
        "파이썬의 강점 가운데 하나는 새로운 기능을 확장하는 것이 쉽다는 것이다.<br>\n",
        "One of the strengths of the python is it can expand its capabilities easily.\n",
        "\n"
      ]
    },
    {
      "cell_type": "markdown",
      "metadata": {
        "id": "Uc1yC8vH3YCb"
      },
      "source": [
        "어떤 파이썬 소스 코드 파일이든 `import` 하여 그 안에 포함된 함수와 변수를 사용할 수 있다.<br>\n",
        "We can `import` just about any python source code file and use included functions and variables.\n",
        "\n"
      ]
    },
    {
      "cell_type": "code",
      "execution_count": null,
      "metadata": {
        "id": "2s_VeEjB3YCb"
      },
      "outputs": [],
      "source": [
        "with open(\"import_this.py\", 'w') as fo:\n",
        "    fo.write(\n",
        "        \"def multiply(x):\\n\"\n",
        "        \"    return 3 * x\\n\"\n",
        "    )\n",
        "\n"
      ]
    },
    {
      "cell_type": "code",
      "execution_count": null,
      "metadata": {
        "id": "dr9w7jmp3YCb"
      },
      "outputs": [],
      "source": [
        "import import_this\n",
        "import imp\n",
        "imp.reload(import_this)\n",
        "\n",
        "print(import_this.multiply('a'))\n",
        "\n"
      ]
    },
    {
      "cell_type": "markdown",
      "metadata": {
        "id": "Mc_yHvaG3YCc"
      },
      "source": [
        "다른 이름으로 불러올 수도 있다.<br>We may assign the name of the module to a different name.\n",
        "\n"
      ]
    },
    {
      "cell_type": "code",
      "execution_count": null,
      "metadata": {
        "id": "RNBz52Rn3YCc"
      },
      "outputs": [],
      "source": [
        "import import_this as it\n",
        "\n",
        "print(it.multiply('a'))\n",
        "\n"
      ]
    },
    {
      "cell_type": "markdown",
      "metadata": {
        "id": "52gXROi43YCc"
      },
      "source": [
        "`import` 하여 사용할 수 있는 다른사람들이 제공해 준 파일들도 많이 있다.<br>\n",
        "We may `import` numerous files by generous contributors.\n",
        "\n"
      ]
    },
    {
      "cell_type": "code",
      "execution_count": null,
      "metadata": {
        "id": "wf_MQtUM3YCc"
      },
      "outputs": [],
      "source": [
        "# 아래 os 모듈은 운영체제 관련 기능을 담고 있다.\n",
        "# Following os module includes many features related to operating systems\n",
        "import os\n",
        "\n",
        "# 예를 들어 현재 폴더에 포함된 파일의 목록은 다음과 같이 알 수 있다.\n",
        "# For example, we may obtain a list of files in the current folder\n",
        "os.listdir()\n",
        "\n"
      ]
    },
    {
      "cell_type": "markdown",
      "metadata": {
        "id": "UqRYF7yZ3YCd"
      },
      "source": [
        "현재 폴더에 `import_this.py` 파일이 포함되어 있는가?<br>\n",
        "Does the current folder have the `import_this.py` file?\n",
        "\n"
      ]
    },
    {
      "cell_type": "code",
      "execution_count": null,
      "metadata": {
        "id": "KrF7fIQR3YCd"
      },
      "outputs": [],
      "source": [
        "\"import_this.py\" in os.listdir()\n",
        "\n"
      ]
    },
    {
      "cell_type": "markdown",
      "metadata": {
        "id": "-jsSgIKW3YCd"
      },
      "source": [
        "어떤 파일을 삭제할 수도 있다.<br>\n",
        "We may delete an existing file.\n",
        "\n"
      ]
    },
    {
      "cell_type": "code",
      "execution_count": null,
      "metadata": {
        "id": "90SMYeKd3YCd"
      },
      "outputs": [],
      "source": [
        "if \"import_this.py\" in os.listdir():\n",
        "    os.remove(\"import_this.py\")\n",
        "\n"
      ]
    },
    {
      "cell_type": "code",
      "execution_count": null,
      "metadata": {
        "id": "rPBA6bRr3YCd"
      },
      "outputs": [],
      "source": [
        "os.listdir()\n",
        "\n"
      ]
    },
    {
      "cell_type": "code",
      "execution_count": null,
      "metadata": {
        "id": "3QOiXWEk3YCd"
      },
      "outputs": [],
      "source": [
        "\"import_this.py\" in os.listdir()\n",
        "\n"
      ]
    },
    {
      "cell_type": "code",
      "execution_count": null,
      "metadata": {
        "id": "77g0t-C73YCe"
      },
      "outputs": [],
      "source": [
        "\"sample.txt\" in os.listdir()\n",
        "\n"
      ]
    },
    {
      "cell_type": "code",
      "execution_count": null,
      "metadata": {
        "id": "GMQSjKG93YCe"
      },
      "outputs": [],
      "source": [
        "if \"sample.txt\" in os.listdir():\n",
        "    os.remove(\"sample.txt\")\n",
        "\n"
      ]
    },
    {
      "cell_type": "code",
      "execution_count": null,
      "metadata": {
        "id": "yXImpAh93YCe"
      },
      "outputs": [],
      "source": [
        "os.listdir()\n",
        "\n"
      ]
    },
    {
      "cell_type": "code",
      "execution_count": null,
      "metadata": {
        "id": "KIpjDZah3YCe"
      },
      "outputs": [],
      "source": [
        "\"sample.txt\" in os.listdir()\n",
        "\n"
      ]
    },
    {
      "cell_type": "markdown",
      "metadata": {
        "id": "gWVMYU0A3YCe"
      },
      "source": [
        "## 소프트웨어 시험 함수<br>Software Test Functions\n",
        "\n"
      ]
    },
    {
      "cell_type": "markdown",
      "metadata": {
        "id": "nRSYqjsO3YCe"
      },
      "source": [
        "모든 소프트웨어는 예상 대로 작동하는지 확인해야 한다.<br>\n",
        "We must verify all code lines work as we expect.\n",
        "\n"
      ]
    },
    {
      "cell_type": "markdown",
      "metadata": {
        "id": "3ggv4HLV3YCe"
      },
      "source": [
        "예를 들어 아래와 같은 함수를 생각해 보자.<br>\n",
        "Let's think about a function as follows.\n",
        "\n"
      ]
    },
    {
      "cell_type": "code",
      "execution_count": null,
      "metadata": {
        "id": "OU0DsWQv3YCf"
      },
      "outputs": [],
      "source": [
        "def add(a, b):\n",
        "    return a + b\n",
        "\n"
      ]
    },
    {
      "cell_type": "markdown",
      "metadata": {
        "id": "Wtx8tfSM3YCf"
      },
      "source": [
        "아래는 위 함수가 맞게 작성되었는지 확인한다.<br>Following is a test function.\n",
        "\n"
      ]
    },
    {
      "cell_type": "code",
      "execution_count": null,
      "metadata": {
        "id": "wzySIT4K3YCf"
      },
      "outputs": [],
      "source": [
        "def test_add():\n",
        "    # 논리식이 참이 아니면 assert 문은 AssertionError 오류를 발생시키며 ',' 뒤의 메시지를 보여 줄 것이다.\n",
        "    # If the logical operation is not true, assert will raise AssertionError with the message after ','\n",
        "    assert 3 == add(1, 2), f\"add(1, 2) != 3\"\n",
        "\n"
      ]
    },
    {
      "cell_type": "markdown",
      "metadata": {
        "id": "Ejz96TwF3YCf"
      },
      "source": [
        "시험 함수를 호출해 보자.<br>\n",
        "Let's call the test function.\n",
        "\n"
      ]
    },
    {
      "cell_type": "code",
      "execution_count": null,
      "metadata": {
        "id": "mn2jEuIW3YCf"
      },
      "outputs": [],
      "source": [
        "test_add()\n",
        "\n"
      ]
    },
    {
      "cell_type": "markdown",
      "metadata": {
        "id": "6-taQn753YCf"
      },
      "source": [
        "오류가 발생하지 않았다면 해당 함수가 위 시험은 통과한 것이다.<br>\n",
        "If no error message, we can see that the function passed the particular test.\n",
        "\n"
      ]
    },
    {
      "cell_type": "markdown",
      "metadata": {
        "id": "TamvTydi3YCf"
      },
      "source": [
        "`add()` 함수의 내용을 고의로 바꾸어 보자.<br>Let's intentionally change the `add()` function.\n",
        "\n"
      ]
    },
    {
      "cell_type": "code",
      "execution_count": null,
      "metadata": {
        "id": "qsEFq7zu3YCf"
      },
      "outputs": [],
      "source": [
        "def add(a, b):\n",
        "    return a - b\n",
        "\n"
      ]
    },
    {
      "cell_type": "code",
      "execution_count": null,
      "metadata": {
        "id": "vbcC2nvM3YCf"
      },
      "outputs": [],
      "source": [
        "try:\n",
        "  test_add()\n",
        "except AssertionError as e:\n",
        "  print(e)\n",
        "  print(\"add() did not pass this time\")\n",
        "\n"
      ]
    },
    {
      "cell_type": "markdown",
      "metadata": {
        "id": "0qB83-O53YCg"
      },
      "source": [
        "## 변수형 표시<br>Type Hints\n",
        "\n"
      ]
    },
    {
      "cell_type": "markdown",
      "metadata": {
        "id": "zxN0FScU3YCg"
      },
      "source": [
        "어떤 변수는 어떤 형일지 표시해 주는 기능이 있다.<br>\n",
        "Using type hints, we can take a note of types of variable.\n",
        "\n"
      ]
    },
    {
      "cell_type": "code",
      "execution_count": null,
      "metadata": {
        "id": "Ez8SDFjj3YCg"
      },
      "outputs": [],
      "source": [
        "def f(x):\n",
        "    return 2 * x\n",
        "\n"
      ]
    },
    {
      "cell_type": "markdown",
      "metadata": {
        "id": "sVA2qYEt3YCg"
      },
      "source": [
        "위 함수에 아래와 같이 type hint 를 추가할 수 있다.<br>\n",
        "We may add type hints to the function above as follows.\n",
        "\n"
      ]
    },
    {
      "cell_type": "code",
      "execution_count": null,
      "metadata": {
        "id": "EUb0U1iz3YCg"
      },
      "outputs": [],
      "source": [
        "def f(x:int) -> int:\n",
        "    return 2 * x\n",
        "\n"
      ]
    },
    {
      "cell_type": "markdown",
      "metadata": {
        "id": "YjssOLAn3YCg"
      },
      "source": [
        "여기서, `x:int` 는 `x` 가 아마도 정수형일 것으로 예상된다는 뜻이다.<br>\n",
        "Here, `x:int` means that `x` would probably be an integer.\n",
        "\n"
      ]
    },
    {
      "cell_type": "markdown",
      "metadata": {
        "id": "_dAPqQqo3YCg"
      },
      "source": [
        "또한, `-> int:` 는 해당 함수가 아마도 정수형을 반환할 것으로 예상된다는 뜻이다.<br>\n",
        "Also, `-> int:` means that the function would probably return an integer.\n",
        "\n"
      ]
    },
    {
      "cell_type": "markdown",
      "metadata": {
        "id": "7PT2ZIwU3YCg"
      },
      "source": [
        "실행시 `x`는 정수가 아닐 수도 있다. 함수 `f()` 도 정수형이 아닌 값을 반환할 수도 있다.<br>\n",
        "During the runtime, `x` may not be an integer. The function `f()` may return a value which is not an integer.\n",
        "\n"
      ]
    },
    {
      "cell_type": "markdown",
      "metadata": {
        "id": "JJn685_53YCg"
      },
      "source": [
        "현재 변수형을 표시하는 까닭은 개발자와 통합개발환경을 위해서이다.<br>For now, type hints are for the developers and integrated development environments.\n",
        "\n"
      ]
    },
    {
      "cell_type": "markdown",
      "metadata": {
        "id": "PQhMfcHg3YCh"
      },
      "source": [
        "변수형 표시 기능을 확장하기 위해 `typing` 모듈을 사용할 수 있다.<br>\n",
        "To extend type hints, we may import `typing` module.\n",
        "\n"
      ]
    },
    {
      "cell_type": "markdown",
      "metadata": {
        "id": "56cT1lox3YCh"
      },
      "source": [
        "예를 들어, `typing` 으로부터 `List`, `Tuple`, `Union` 을 import 할 수 있다.<br>For example, we may import `List`, `Tuple`, and `Union` from `typing`.\n",
        "\n"
      ]
    },
    {
      "cell_type": "code",
      "execution_count": null,
      "metadata": {
        "id": "yHq8Uz9h3YCh"
      },
      "outputs": [],
      "source": [
        "from typing import List, Tuple, Union\n",
        "\n"
      ]
    },
    {
      "cell_type": "markdown",
      "metadata": {
        "id": "W8aC1IMe3YCh"
      },
      "source": [
        "예상되는 `x`의 변수형이 여러가지라면, `Union` 으로 표시할 수 있다.<br>If `x` may be one of multiple types, `Union` may indicate them.\n",
        "\n"
      ]
    },
    {
      "cell_type": "code",
      "execution_count": null,
      "metadata": {
        "id": "owV2GluS3YCh"
      },
      "outputs": [],
      "source": [
        "def g(x:Union[int, float, str]) -> Union[int, float, str]:\n",
        "    return 2 * x\n",
        "\n"
      ]
    },
    {
      "cell_type": "markdown",
      "metadata": {
        "id": "ddNIthxl3YCh"
      },
      "source": [
        "`List` 와 `Tuple`로 list 또는 tuple 의 항목의 변수형을 표시할 수 있다.<br>`List` or `Tuple` may indicate the types of items within a list or tuple.\n",
        "\n"
      ]
    },
    {
      "cell_type": "code",
      "execution_count": null,
      "metadata": {
        "id": "sLa7nja-3YCh"
      },
      "outputs": [],
      "source": [
        "def h(x:List[int], y:List[float]) -> Tuple[float]:\n",
        "    return x + y\n",
        "\n"
      ]
    },
    {
      "cell_type": "markdown",
      "metadata": {
        "id": "_1k5qe0b3YCh"
      },
      "source": [
        "자주 사용하는 변수형을 지정하여 사용하는 것도 가능하다.<br>We may assign frequently used types.\n",
        "\n"
      ]
    },
    {
      "cell_type": "code",
      "execution_count": null,
      "metadata": {
        "id": "299XOoMO3YCi"
      },
      "outputs": [],
      "source": [
        "Scalar = Union[int, float]\n",
        "Vector = Union[List[Scalar], Tuple[Scalar]]\n",
        "Matrix = Union[List[Vector], Tuple[Vector]]\n",
        "\n"
      ]
    },
    {
      "cell_type": "code",
      "execution_count": null,
      "metadata": {
        "id": "i-gJl3sQ3YCi"
      },
      "outputs": [],
      "source": [
        "def mat_times_scalar(a:Scalar, X:Matrix) -> Matrix:\n",
        "    result = []\n",
        "    for row in X:\n",
        "        new_row = []\n",
        "        result.append(new_row)\n",
        "        for x_ij in row:\n",
        "            new_row.append(x_ij * a)\n",
        "    return result\n",
        "\n"
      ]
    },
    {
      "cell_type": "markdown",
      "metadata": {
        "id": "mlQnGIL93YCi"
      },
      "source": [
        "## Final Bell<br>마지막 종\n",
        "\n"
      ]
    },
    {
      "cell_type": "code",
      "execution_count": null,
      "metadata": {
        "id": "OrWBx-Lz3YCi"
      },
      "outputs": [],
      "source": [
        "# stackoverfow.com/a/24634221\n",
        "import os\n",
        "os.system(\"printf '\\a'\");\n",
        "\n"
      ]
    },
    {
      "cell_type": "code",
      "execution_count": null,
      "metadata": {
        "id": "TMrP93xM3YCi"
      },
      "outputs": [],
      "source": [
        ""
      ]
    }
  ],
  "metadata": {
    "kernelspec": {
      "display_name": "Python 3",
      "language": "python",
      "name": "python3"
    },
    "language_info": {
      "codemirror_mode": {
        "name": "ipython",
        "version": 3
      },
      "file_extension": ".py",
      "mimetype": "text/x-python",
      "name": "python",
      "nbconvert_exporter": "python",
      "pygments_lexer": "ipython3",
      "version": "3.8.8"
    },
    "colab": {
      "name": "20_python_review.ipynb",
      "provenance": [],
      "include_colab_link": true
    }
  },
  "nbformat": 4,
  "nbformat_minor": 0
}