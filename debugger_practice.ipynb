{
  "nbformat": 4,
  "nbformat_minor": 0,
  "metadata": {
    "colab": {
      "provenance": [],
      "collapsed_sections": [],
      "include_colab_link": true
    },
    "kernelspec": {
      "name": "python3",
      "display_name": "Python 3"
    },
    "language_info": {
      "name": "python"
    }
  },
  "cells": [
    {
      "cell_type": "markdown",
      "metadata": {
        "id": "view-in-github",
        "colab_type": "text"
      },
      "source": [
        "<a href=\"https://colab.research.google.com/github/kangwonlee/006878/blob/master/debugger_practice.ipynb\" target=\"_parent\"><img src=\"https://colab.research.google.com/assets/colab-badge.svg\" alt=\"Open In Colab\"/></a>"
      ]
    },
    {
      "cell_type": "markdown",
      "source": [
        "# Debugger practice<br>디버거 연습"
      ],
      "metadata": {
        "id": "aJJXXwAlTc_o"
      }
    },
    {
      "cell_type": "markdown",
      "source": [
        "ipython magic commands [link](https://ipython.readthedocs.io/en/stable/interactive/magics.html)\n",
        "\n"
      ],
      "metadata": {
        "id": "rSdRufsBHIja"
      }
    },
    {
      "cell_type": "markdown",
      "source": [
        "Python Debugging With Pdb, RealPython [link](https://realpython.com/python-debugging-pdb/)\n",
        "\n"
      ],
      "metadata": {
        "id": "75Bglg1MNqcf"
      }
    },
    {
      "cell_type": "markdown",
      "source": [
        "pdb Python debugger [link](https://docs.python.org/3/library/pdb.html)\n",
        "\n"
      ],
      "metadata": {
        "id": "jC9A7OR_HRH2"
      }
    },
    {
      "cell_type": "markdown",
      "source": [
        "| command | name |\n",
        "|:-------:|:----:|\n",
        "| q | quit |\n",
        "| h | help |\n",
        "| p | print |\n",
        "| pp | pretty print |\n",
        "| l | list |\n",
        "| n | next |\n",
        "| s | step |\n",
        "| unt | until |\n",
        "| r | return |\n",
        "| c | continue |\n",
        "| j | jump |\n",
        "| w | where |\n",
        "| d | down |\n",
        "| u | up |\n",
        "| b | break |\n",
        "| tbreak | temporary break |\n",
        "| cl | clear |\n",
        "| disable | disable |\n",
        "| enable | enable |\n",
        "| ignore | ignore |\n",
        "| condition | condition |\n",
        "| commands | commands |\n",
        "\n",
        "\n"
      ],
      "metadata": {
        "id": "4EaK30OULH8T"
      }
    },
    {
      "cell_type": "markdown",
      "source": [
        "* Tools &rarr; Settings &rarr; Editor &rarr; Show line numbers<br>도구 &rarr; 설정 &rarr; 편집기 &rarr; 행번호 표시"
      ],
      "metadata": {
        "id": "1Qk7njDTTt0u"
      }
    },
    {
      "cell_type": "code",
      "execution_count": null,
      "metadata": {
        "id": "Xqt7jYxcGbjT"
      },
      "outputs": [],
      "source": [
        "def fib(n, b_full=False):\n",
        "\n",
        "  r_list = [1, 1]\n",
        "\n",
        "  while len(r_list) < n:\n",
        "    f_i = r_list[-1] + r_list[-2]\n",
        "    r_list.append(f_i)\n",
        "\n",
        "  if b_full:\n",
        "    result = r_list\n",
        "  else:\n",
        "    result = r_list[-1]\n",
        "\n",
        "  return result\n",
        "\n"
      ]
    },
    {
      "cell_type": "markdown",
      "source": [
        "1. Run following cell<br>아래 셀을 실행\n",
        "1. `s`tep into the function `fib()`<br>`s` 함수 `fib()` 실행\n",
        "1. `b 5` set a break point at line 5<br>`b 5` 5행에 정지점 설정\n",
        "1. `c`ontinue to the break point<br>`c` 정지점 까지 계속 실행\n",
        "1. `p r_list`\n",
        "1. `p len(r_list)`\n",
        "1. `p len(r_list) < n`\n",
        "1. Again, `c`ontinue to the break point<br>`c` 정지점 까지 계속 실행\n",
        "1. `p r_list`\n"
      ],
      "metadata": {
        "id": "vyoLY_0AS4J3"
      }
    },
    {
      "cell_type": "code",
      "source": [
        "%debug fib(10)\n",
        "\n"
      ],
      "metadata": {
        "id": "nBc9VRdsHE1M"
      },
      "execution_count": null,
      "outputs": []
    },
    {
      "cell_type": "code",
      "source": [
        "fib(10, True)"
      ],
      "metadata": {
        "id": "SEm5aKlANJOV"
      },
      "execution_count": null,
      "outputs": []
    },
    {
      "cell_type": "markdown",
      "source": [
        "Fibonacci by recursion<br>피보나치 수를 재귀호출로 구해보자"
      ],
      "metadata": {
        "id": "d7qDzgFiYTqN"
      }
    },
    {
      "cell_type": "code",
      "source": [
        "counter = 0\n",
        "\n",
        "def fib_r(n):\n",
        "  global counter\n",
        "  counter += 1\n",
        "\n",
        "  # print(f\"{counter} fib_r({n})\")\n",
        "\n",
        "  if n < 2:\n",
        "    result = 1\n",
        "  else:\n",
        "    result = fib_r(n-1) + fib_r(n-2)\n",
        "\n",
        "  return result\n",
        "\n"
      ],
      "metadata": {
        "id": "nLooVLxeWQLp"
      },
      "execution_count": null,
      "outputs": []
    },
    {
      "cell_type": "code",
      "source": [
        "counter = 0\n",
        "\n",
        "%time fib_r(32)\n",
        "\n"
      ],
      "metadata": {
        "id": "8UnJ-rm3YAru"
      },
      "execution_count": null,
      "outputs": []
    },
    {
      "cell_type": "code",
      "source": [
        "counter"
      ],
      "metadata": {
        "id": "5cF8psTYPqSj"
      },
      "execution_count": null,
      "outputs": []
    },
    {
      "cell_type": "code",
      "source": [
        "%debug fib_r(5)\n",
        "\n"
      ],
      "metadata": {
        "id": "VvJ-8pPDWssp"
      },
      "execution_count": null,
      "outputs": []
    },
    {
      "cell_type": "markdown",
      "source": [
        "Now let's store previous results<br>이번에는 한번 구한 결과를 저장해 보자\n",
        "\n"
      ],
      "metadata": {
        "id": "yOGXCtm-BipM"
      }
    },
    {
      "cell_type": "code",
      "source": [
        "counter = 0\n",
        "\n",
        "def fib_lu(n, lookup={}):\n",
        "\n",
        "  global counter\n",
        "  counter += 1\n",
        "  # print(f\"{counter} fib_lu({n})\")\n",
        "\n",
        "  if n in lookup:\n",
        "    result = lookup[n]\n",
        "  else:\n",
        "    if n < 2:\n",
        "      result = 1\n",
        "    else:\n",
        "      result = fib_lu(n-1, lookup) + fib_lu(n-2, lookup)\n",
        "\n",
        "    lookup[n] = result\n",
        "\n",
        "  return result\n",
        "\n"
      ],
      "metadata": {
        "id": "VmHAwerhZCNV"
      },
      "execution_count": null,
      "outputs": []
    },
    {
      "cell_type": "code",
      "source": [
        "counter = 0\n",
        "\n",
        "%time fib_lu(32)\n",
        "\n"
      ],
      "metadata": {
        "id": "4a4sM8ckaSIA"
      },
      "execution_count": null,
      "outputs": []
    },
    {
      "cell_type": "code",
      "source": [
        "counter"
      ],
      "metadata": {
        "id": "iSTM9wkKP-Mz"
      },
      "execution_count": null,
      "outputs": []
    },
    {
      "cell_type": "code",
      "source": [
        "1.37 / 31.9e-6"
      ],
      "metadata": {
        "id": "fti0riEvHdiQ"
      },
      "execution_count": null,
      "outputs": []
    },
    {
      "cell_type": "code",
      "source": [],
      "metadata": {
        "id": "NVUrhOwaP6sK"
      },
      "execution_count": null,
      "outputs": []
    }
  ]
}